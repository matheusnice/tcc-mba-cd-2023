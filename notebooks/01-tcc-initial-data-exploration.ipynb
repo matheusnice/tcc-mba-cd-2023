{
 "cells": [
  {
   "attachments": {},
   "cell_type": "markdown",
   "metadata": {},
   "source": [
    "# 1. Imports"
   ]
  },
  {
   "cell_type": "code",
   "execution_count": 54,
   "metadata": {},
   "outputs": [],
   "source": [
    "import pandas as pd\n",
    "import numpy as np\n",
    "import matplotlib.pyplot as plt"
   ]
  },
  {
   "cell_type": "code",
   "execution_count": 55,
   "metadata": {},
   "outputs": [
    {
     "data": {
      "text/html": [
       "<div>\n",
       "<style scoped>\n",
       "    .dataframe tbody tr th:only-of-type {\n",
       "        vertical-align: middle;\n",
       "    }\n",
       "\n",
       "    .dataframe tbody tr th {\n",
       "        vertical-align: top;\n",
       "    }\n",
       "\n",
       "    .dataframe thead th {\n",
       "        text-align: right;\n",
       "    }\n",
       "</style>\n",
       "<table border=\"1\" class=\"dataframe\">\n",
       "  <thead>\n",
       "    <tr style=\"text-align: right;\">\n",
       "      <th></th>\n",
       "      <th>data_internacao_real</th>\n",
       "      <th>data_cadastro</th>\n",
       "      <th>sexo</th>\n",
       "      <th>data_nascimento</th>\n",
       "      <th>uf</th>\n",
       "      <th>municipio</th>\n",
       "      <th>profissao_ocupacao</th>\n",
       "      <th>cod_paciente</th>\n",
       "      <th>unidade_cadastro</th>\n",
       "      <th>idade_aprox</th>\n",
       "      <th>...</th>\n",
       "      <th>total_repeat_cod</th>\n",
       "      <th>total_repeat</th>\n",
       "      <th>sum_los_hour</th>\n",
       "      <th>sum_outside_hour</th>\n",
       "      <th>cumsum</th>\n",
       "      <th>cumsum.1</th>\n",
       "      <th>cumsum.1(start)</th>\n",
       "      <th>cod_paciente.1</th>\n",
       "      <th>start</th>\n",
       "      <th>stop</th>\n",
       "    </tr>\n",
       "  </thead>\n",
       "  <tbody>\n",
       "    <tr>\n",
       "      <th>0</th>\n",
       "      <td>7/12/2012 17:37</td>\n",
       "      <td>NaN</td>\n",
       "      <td>F</td>\n",
       "      <td>7/30/1957</td>\n",
       "      <td>SP</td>\n",
       "      <td>Ribeirão Preto</td>\n",
       "      <td>DO LAR</td>\n",
       "      <td>39</td>\n",
       "      <td>43</td>\n",
       "      <td>NaN</td>\n",
       "      <td>...</td>\n",
       "      <td>0.000000</td>\n",
       "      <td>0.0000</td>\n",
       "      <td>1943.383333</td>\n",
       "      <td>0.0</td>\n",
       "      <td>1943.383333</td>\n",
       "      <td>1943.383333</td>\n",
       "      <td>0.0</td>\n",
       "      <td>39</td>\n",
       "      <td>0.0</td>\n",
       "      <td>1943.383333</td>\n",
       "    </tr>\n",
       "    <tr>\n",
       "      <th>1</th>\n",
       "      <td>6/25/2012 12:00</td>\n",
       "      <td>8/2/2012 0:00</td>\n",
       "      <td>F</td>\n",
       "      <td>2/10/1971</td>\n",
       "      <td>SP</td>\n",
       "      <td>Ribeirão Preto</td>\n",
       "      <td>DESEMPREGADA</td>\n",
       "      <td>40</td>\n",
       "      <td>7</td>\n",
       "      <td>NaN</td>\n",
       "      <td>...</td>\n",
       "      <td>250.481771</td>\n",
       "      <td>6011.5625</td>\n",
       "      <td>16268.263890</td>\n",
       "      <td>48092.5</td>\n",
       "      <td>1923.150000</td>\n",
       "      <td>0.000000</td>\n",
       "      <td>0.0</td>\n",
       "      <td>40</td>\n",
       "      <td>0.0</td>\n",
       "      <td>1923.150000</td>\n",
       "    </tr>\n",
       "  </tbody>\n",
       "</table>\n",
       "<p>2 rows × 70 columns</p>\n",
       "</div>"
      ],
      "text/plain": [
       "  data_internacao_real  data_cadastro sexo data_nascimento  uf  \\\n",
       "0      7/12/2012 17:37            NaN    F       7/30/1957  SP   \n",
       "1      6/25/2012 12:00  8/2/2012 0:00    F       2/10/1971  SP   \n",
       "\n",
       "        municipio profissao_ocupacao  cod_paciente  unidade_cadastro  \\\n",
       "0  Ribeirão Preto             DO LAR            39                43   \n",
       "1  Ribeirão Preto       DESEMPREGADA            40                 7   \n",
       "\n",
       "   idade_aprox  ... total_repeat_cod total_repeat  sum_los_hour  \\\n",
       "0          NaN  ...         0.000000       0.0000   1943.383333   \n",
       "1          NaN  ...       250.481771    6011.5625  16268.263890   \n",
       "\n",
       "   sum_outside_hour       cumsum     cumsum.1 cumsum.1(start) cod_paciente.1  \\\n",
       "0               0.0  1943.383333  1943.383333             0.0             39   \n",
       "1           48092.5  1923.150000     0.000000             0.0             40   \n",
       "\n",
       "  start         stop  \n",
       "0   0.0  1943.383333  \n",
       "1   0.0  1923.150000  \n",
       "\n",
       "[2 rows x 70 columns]"
      ]
     },
     "execution_count": 55,
     "metadata": {},
     "output_type": "execute_result"
    }
   ],
   "source": [
    "df = pd.read_csv('../data/raw/total dataset with los and outsid time.csv', encoding='latin1')\n",
    "df.head(2)"
   ]
  },
  {
   "attachments": {},
   "cell_type": "markdown",
   "metadata": {},
   "source": [
    "# 2. Dataprep"
   ]
  },
  {
   "cell_type": "code",
   "execution_count": 57,
   "metadata": {},
   "outputs": [],
   "source": [
    "cols_to_drop = [\n",
    "    'unidade_cadastro',\n",
    "    'cod_regulacao',\n",
    "    'cod_unidade_origem',\n",
    "    'tipo_regulacao',\n",
    "    'data_lista_reg',\n",
    "    'data_vaga_reg',\n",
    "    'data_admissao_reg',\n",
    "    'data_lista_hospital',\n",
    "    'data_vaga_hospital',\n",
    "    'data_internacao',\n",
    "    'data_cancel_solicitacao',\n",
    "    'data_transferencia',\n",
    "    'gravidez',\n",
    "    'tipo_internacao_de',\n",
    "    'data_expiracao',\n",
    "    'cod_transf_alta',\n",
    "    'nome_unidade_solicitacao',\n",
    "    'nome_unidade_destino',\n",
    "    'via_internacao',\n",
    "    'idade',\n",
    "    'faixa_etaria'    \n",
    "]\n",
    "\n",
    "df = df.drop(cols_to_drop, axis=1)\n"
   ]
  },
  {
   "cell_type": "code",
   "execution_count": 4,
   "metadata": {},
   "outputs": [
    {
     "data": {
      "text/html": [
       "<div>\n",
       "<style scoped>\n",
       "    .dataframe tbody tr th:only-of-type {\n",
       "        vertical-align: middle;\n",
       "    }\n",
       "\n",
       "    .dataframe tbody tr th {\n",
       "        vertical-align: top;\n",
       "    }\n",
       "\n",
       "    .dataframe thead th {\n",
       "        text-align: right;\n",
       "    }\n",
       "</style>\n",
       "<table border=\"1\" class=\"dataframe\">\n",
       "  <thead>\n",
       "    <tr style=\"text-align: right;\">\n",
       "      <th></th>\n",
       "      <th>data_internacao_real</th>\n",
       "      <th>data_cadastro</th>\n",
       "      <th>sexo</th>\n",
       "      <th>data_nascimento</th>\n",
       "      <th>uf</th>\n",
       "      <th>municipio</th>\n",
       "      <th>profissao_ocupacao</th>\n",
       "      <th>cod_paciente</th>\n",
       "      <th>unidade_cadastro</th>\n",
       "      <th>idade_aprox</th>\n",
       "      <th>...</th>\n",
       "      <th>total_repeat_cod</th>\n",
       "      <th>total_repeat</th>\n",
       "      <th>sum_los_hour</th>\n",
       "      <th>sum_outside_hour</th>\n",
       "      <th>cumsum</th>\n",
       "      <th>cumsum.1</th>\n",
       "      <th>cumsum.1(start)</th>\n",
       "      <th>cod_paciente.1</th>\n",
       "      <th>start</th>\n",
       "      <th>stop</th>\n",
       "    </tr>\n",
       "  </thead>\n",
       "  <tbody>\n",
       "    <tr>\n",
       "      <th>0</th>\n",
       "      <td>2012-07-12 17:37:00</td>\n",
       "      <td>NaN</td>\n",
       "      <td>F</td>\n",
       "      <td>7/30/1957</td>\n",
       "      <td>SP</td>\n",
       "      <td>Ribeirão Preto</td>\n",
       "      <td>DO LAR</td>\n",
       "      <td>39</td>\n",
       "      <td>43</td>\n",
       "      <td>NaN</td>\n",
       "      <td>...</td>\n",
       "      <td>0.000000</td>\n",
       "      <td>0.0000</td>\n",
       "      <td>1943.383333</td>\n",
       "      <td>0.0</td>\n",
       "      <td>1943.383333</td>\n",
       "      <td>1943.383333</td>\n",
       "      <td>0.0</td>\n",
       "      <td>39</td>\n",
       "      <td>0.0</td>\n",
       "      <td>1943.383333</td>\n",
       "    </tr>\n",
       "    <tr>\n",
       "      <th>1</th>\n",
       "      <td>2012-06-25 12:00:00</td>\n",
       "      <td>8/2/2012 0:00</td>\n",
       "      <td>F</td>\n",
       "      <td>2/10/1971</td>\n",
       "      <td>SP</td>\n",
       "      <td>Ribeirão Preto</td>\n",
       "      <td>DESEMPREGADA</td>\n",
       "      <td>40</td>\n",
       "      <td>7</td>\n",
       "      <td>NaN</td>\n",
       "      <td>...</td>\n",
       "      <td>250.481771</td>\n",
       "      <td>6011.5625</td>\n",
       "      <td>16268.263890</td>\n",
       "      <td>48092.5</td>\n",
       "      <td>1923.150000</td>\n",
       "      <td>0.000000</td>\n",
       "      <td>0.0</td>\n",
       "      <td>40</td>\n",
       "      <td>0.0</td>\n",
       "      <td>1923.150000</td>\n",
       "    </tr>\n",
       "  </tbody>\n",
       "</table>\n",
       "<p>2 rows × 70 columns</p>\n",
       "</div>"
      ],
      "text/plain": [
       "  data_internacao_real  data_cadastro sexo data_nascimento  uf  \\\n",
       "0  2012-07-12 17:37:00            NaN    F       7/30/1957  SP   \n",
       "1  2012-06-25 12:00:00  8/2/2012 0:00    F       2/10/1971  SP   \n",
       "\n",
       "        municipio profissao_ocupacao  cod_paciente  unidade_cadastro  \\\n",
       "0  Ribeirão Preto             DO LAR            39                43   \n",
       "1  Ribeirão Preto       DESEMPREGADA            40                 7   \n",
       "\n",
       "   idade_aprox  ... total_repeat_cod total_repeat  sum_los_hour  \\\n",
       "0          NaN  ...         0.000000       0.0000   1943.383333   \n",
       "1          NaN  ...       250.481771    6011.5625  16268.263890   \n",
       "\n",
       "   sum_outside_hour       cumsum     cumsum.1 cumsum.1(start) cod_paciente.1  \\\n",
       "0               0.0  1943.383333  1943.383333             0.0             39   \n",
       "1           48092.5  1923.150000     0.000000             0.0             40   \n",
       "\n",
       "  start         stop  \n",
       "0   0.0  1943.383333  \n",
       "1   0.0  1923.150000  \n",
       "\n",
       "[2 rows x 70 columns]"
      ]
     },
     "execution_count": 4,
     "metadata": {},
     "output_type": "execute_result"
    }
   ],
   "source": [
    "df['data_internacao_real'] = pd.to_datetime(df['data_internacao_real'], format='%m/%d/%Y %H:%M', errors='raise')\n",
    "df.head(2)"
   ]
  },
  {
   "cell_type": "code",
   "execution_count": 5,
   "metadata": {},
   "outputs": [
    {
     "data": {
      "text/html": [
       "<div>\n",
       "<style scoped>\n",
       "    .dataframe tbody tr th:only-of-type {\n",
       "        vertical-align: middle;\n",
       "    }\n",
       "\n",
       "    .dataframe tbody tr th {\n",
       "        vertical-align: top;\n",
       "    }\n",
       "\n",
       "    .dataframe thead th {\n",
       "        text-align: right;\n",
       "    }\n",
       "</style>\n",
       "<table border=\"1\" class=\"dataframe\">\n",
       "  <thead>\n",
       "    <tr style=\"text-align: right;\">\n",
       "      <th></th>\n",
       "      <th>data_internacao_real</th>\n",
       "      <th>data_cadastro</th>\n",
       "      <th>sexo</th>\n",
       "      <th>data_nascimento</th>\n",
       "      <th>uf</th>\n",
       "      <th>municipio</th>\n",
       "      <th>profissao_ocupacao</th>\n",
       "      <th>cod_paciente</th>\n",
       "      <th>unidade_cadastro</th>\n",
       "      <th>idade_aprox</th>\n",
       "      <th>...</th>\n",
       "      <th>total_repeat_cod</th>\n",
       "      <th>total_repeat</th>\n",
       "      <th>sum_los_hour</th>\n",
       "      <th>sum_outside_hour</th>\n",
       "      <th>cumsum</th>\n",
       "      <th>cumsum.1</th>\n",
       "      <th>cumsum.1(start)</th>\n",
       "      <th>cod_paciente.1</th>\n",
       "      <th>start</th>\n",
       "      <th>stop</th>\n",
       "    </tr>\n",
       "  </thead>\n",
       "  <tbody>\n",
       "    <tr>\n",
       "      <th>0</th>\n",
       "      <td>2012-07-12 17:37:00</td>\n",
       "      <td>NaT</td>\n",
       "      <td>F</td>\n",
       "      <td>7/30/1957</td>\n",
       "      <td>SP</td>\n",
       "      <td>Ribeirão Preto</td>\n",
       "      <td>DO LAR</td>\n",
       "      <td>39</td>\n",
       "      <td>43</td>\n",
       "      <td>NaN</td>\n",
       "      <td>...</td>\n",
       "      <td>0.000000</td>\n",
       "      <td>0.0000</td>\n",
       "      <td>1943.383333</td>\n",
       "      <td>0.0</td>\n",
       "      <td>1943.383333</td>\n",
       "      <td>1943.383333</td>\n",
       "      <td>0.0</td>\n",
       "      <td>39</td>\n",
       "      <td>0.0</td>\n",
       "      <td>1943.383333</td>\n",
       "    </tr>\n",
       "    <tr>\n",
       "      <th>1</th>\n",
       "      <td>2012-06-25 12:00:00</td>\n",
       "      <td>2012-08-02</td>\n",
       "      <td>F</td>\n",
       "      <td>2/10/1971</td>\n",
       "      <td>SP</td>\n",
       "      <td>Ribeirão Preto</td>\n",
       "      <td>DESEMPREGADA</td>\n",
       "      <td>40</td>\n",
       "      <td>7</td>\n",
       "      <td>NaN</td>\n",
       "      <td>...</td>\n",
       "      <td>250.481771</td>\n",
       "      <td>6011.5625</td>\n",
       "      <td>16268.263890</td>\n",
       "      <td>48092.5</td>\n",
       "      <td>1923.150000</td>\n",
       "      <td>0.000000</td>\n",
       "      <td>0.0</td>\n",
       "      <td>40</td>\n",
       "      <td>0.0</td>\n",
       "      <td>1923.150000</td>\n",
       "    </tr>\n",
       "  </tbody>\n",
       "</table>\n",
       "<p>2 rows × 70 columns</p>\n",
       "</div>"
      ],
      "text/plain": [
       "  data_internacao_real data_cadastro sexo data_nascimento  uf       municipio  \\\n",
       "0  2012-07-12 17:37:00           NaT    F       7/30/1957  SP  Ribeirão Preto   \n",
       "1  2012-06-25 12:00:00    2012-08-02    F       2/10/1971  SP  Ribeirão Preto   \n",
       "\n",
       "  profissao_ocupacao  cod_paciente  unidade_cadastro  idade_aprox  ...  \\\n",
       "0             DO LAR            39                43          NaN  ...   \n",
       "1       DESEMPREGADA            40                 7          NaN  ...   \n",
       "\n",
       "  total_repeat_cod total_repeat  sum_los_hour  sum_outside_hour       cumsum  \\\n",
       "0         0.000000       0.0000   1943.383333               0.0  1943.383333   \n",
       "1       250.481771    6011.5625  16268.263890           48092.5  1923.150000   \n",
       "\n",
       "      cumsum.1 cumsum.1(start) cod_paciente.1 start         stop  \n",
       "0  1943.383333             0.0             39   0.0  1943.383333  \n",
       "1     0.000000             0.0             40   0.0  1923.150000  \n",
       "\n",
       "[2 rows x 70 columns]"
      ]
     },
     "execution_count": 5,
     "metadata": {},
     "output_type": "execute_result"
    }
   ],
   "source": [
    "df['data_cadastro'] = pd.to_datetime(df['data_cadastro'], format='%m/%d/%Y %H:%M', errors='raise')\n",
    "df.head(2)"
   ]
  },
  {
   "cell_type": "code",
   "execution_count": 6,
   "metadata": {},
   "outputs": [
    {
     "data": {
      "text/plain": [
       "M    5283\n",
       "F    3458\n",
       "T      14\n",
       "Name: sexo, dtype: int64"
      ]
     },
     "execution_count": 6,
     "metadata": {},
     "output_type": "execute_result"
    }
   ],
   "source": [
    "df['sexo'].value_counts(dropna=False)"
   ]
  },
  {
   "cell_type": "code",
   "execution_count": 7,
   "metadata": {},
   "outputs": [
    {
     "data": {
      "text/html": [
       "<div>\n",
       "<style scoped>\n",
       "    .dataframe tbody tr th:only-of-type {\n",
       "        vertical-align: middle;\n",
       "    }\n",
       "\n",
       "    .dataframe tbody tr th {\n",
       "        vertical-align: top;\n",
       "    }\n",
       "\n",
       "    .dataframe thead th {\n",
       "        text-align: right;\n",
       "    }\n",
       "</style>\n",
       "<table border=\"1\" class=\"dataframe\">\n",
       "  <thead>\n",
       "    <tr style=\"text-align: right;\">\n",
       "      <th></th>\n",
       "      <th>data_internacao_real</th>\n",
       "      <th>data_cadastro</th>\n",
       "      <th>sexo</th>\n",
       "      <th>data_nascimento</th>\n",
       "      <th>uf</th>\n",
       "      <th>municipio</th>\n",
       "      <th>profissao_ocupacao</th>\n",
       "      <th>cod_paciente</th>\n",
       "      <th>unidade_cadastro</th>\n",
       "      <th>idade_aprox</th>\n",
       "      <th>...</th>\n",
       "      <th>total_repeat_cod</th>\n",
       "      <th>total_repeat</th>\n",
       "      <th>sum_los_hour</th>\n",
       "      <th>sum_outside_hour</th>\n",
       "      <th>cumsum</th>\n",
       "      <th>cumsum.1</th>\n",
       "      <th>cumsum.1(start)</th>\n",
       "      <th>cod_paciente.1</th>\n",
       "      <th>start</th>\n",
       "      <th>stop</th>\n",
       "    </tr>\n",
       "  </thead>\n",
       "  <tbody>\n",
       "    <tr>\n",
       "      <th>0</th>\n",
       "      <td>2012-07-12 17:37:00</td>\n",
       "      <td>NaT</td>\n",
       "      <td>F</td>\n",
       "      <td>1957-07-30</td>\n",
       "      <td>SP</td>\n",
       "      <td>Ribeirão Preto</td>\n",
       "      <td>DO LAR</td>\n",
       "      <td>39</td>\n",
       "      <td>43</td>\n",
       "      <td>NaN</td>\n",
       "      <td>...</td>\n",
       "      <td>0.000000</td>\n",
       "      <td>0.0000</td>\n",
       "      <td>1943.383333</td>\n",
       "      <td>0.0</td>\n",
       "      <td>1943.383333</td>\n",
       "      <td>1943.383333</td>\n",
       "      <td>0.0</td>\n",
       "      <td>39</td>\n",
       "      <td>0.0</td>\n",
       "      <td>1943.383333</td>\n",
       "    </tr>\n",
       "    <tr>\n",
       "      <th>1</th>\n",
       "      <td>2012-06-25 12:00:00</td>\n",
       "      <td>2012-08-02</td>\n",
       "      <td>F</td>\n",
       "      <td>1971-02-10</td>\n",
       "      <td>SP</td>\n",
       "      <td>Ribeirão Preto</td>\n",
       "      <td>DESEMPREGADA</td>\n",
       "      <td>40</td>\n",
       "      <td>7</td>\n",
       "      <td>NaN</td>\n",
       "      <td>...</td>\n",
       "      <td>250.481771</td>\n",
       "      <td>6011.5625</td>\n",
       "      <td>16268.263890</td>\n",
       "      <td>48092.5</td>\n",
       "      <td>1923.150000</td>\n",
       "      <td>0.000000</td>\n",
       "      <td>0.0</td>\n",
       "      <td>40</td>\n",
       "      <td>0.0</td>\n",
       "      <td>1923.150000</td>\n",
       "    </tr>\n",
       "  </tbody>\n",
       "</table>\n",
       "<p>2 rows × 70 columns</p>\n",
       "</div>"
      ],
      "text/plain": [
       "  data_internacao_real data_cadastro sexo data_nascimento  uf       municipio  \\\n",
       "0  2012-07-12 17:37:00           NaT    F      1957-07-30  SP  Ribeirão Preto   \n",
       "1  2012-06-25 12:00:00    2012-08-02    F      1971-02-10  SP  Ribeirão Preto   \n",
       "\n",
       "  profissao_ocupacao  cod_paciente  unidade_cadastro  idade_aprox  ...  \\\n",
       "0             DO LAR            39                43          NaN  ...   \n",
       "1       DESEMPREGADA            40                 7          NaN  ...   \n",
       "\n",
       "  total_repeat_cod total_repeat  sum_los_hour  sum_outside_hour       cumsum  \\\n",
       "0         0.000000       0.0000   1943.383333               0.0  1943.383333   \n",
       "1       250.481771    6011.5625  16268.263890           48092.5  1923.150000   \n",
       "\n",
       "      cumsum.1 cumsum.1(start) cod_paciente.1 start         stop  \n",
       "0  1943.383333             0.0             39   0.0  1943.383333  \n",
       "1     0.000000             0.0             40   0.0  1923.150000  \n",
       "\n",
       "[2 rows x 70 columns]"
      ]
     },
     "execution_count": 7,
     "metadata": {},
     "output_type": "execute_result"
    }
   ],
   "source": [
    "date_pattern = \"(\\d{1,2}/\\d{1,2}/\\d{4})\"\n",
    "df['data_nascimento'] = pd.to_datetime(df['data_nascimento'].str.extract(date_pattern).to_numpy().flat, format='%m/%d/%Y')\n",
    "df.head(2)"
   ]
  },
  {
   "cell_type": "code",
   "execution_count": 8,
   "metadata": {},
   "outputs": [
    {
     "data": {
      "text/plain": [
       "SP               7039\n",
       "NÃO INFORMADO    1682\n",
       "MG                 23\n",
       "PR                  4\n",
       "BA                  3\n",
       "RN                  1\n",
       "AL                  1\n",
       "GO                  1\n",
       "RS                  1\n",
       "Name: uf, dtype: int64"
      ]
     },
     "execution_count": 8,
     "metadata": {},
     "output_type": "execute_result"
    }
   ],
   "source": [
    "df['uf'].value_counts(dropna=False)"
   ]
  },
  {
   "cell_type": "code",
   "execution_count": 9,
   "metadata": {},
   "outputs": [
    {
     "data": {
      "text/plain": [
       "Ribeirão Preto                 2724\n",
       "NÃO INFORMADO                  1918\n",
       "Sertãozinho                     378\n",
       "MONTE ALTO                      364\n",
       "JABOTICABAL                     351\n",
       "                               ... \n",
       "RIO CLARO                         1\n",
       "Matão                             1\n",
       "BERILO                            1\n",
       "São João Batista do Glória        1\n",
       "MINAS NOVAS                       1\n",
       "Name: municipio, Length: 108, dtype: int64"
      ]
     },
     "execution_count": 9,
     "metadata": {},
     "output_type": "execute_result"
    }
   ],
   "source": [
    "df['municipio'].value_counts(dropna=False)"
   ]
  },
  {
   "cell_type": "code",
   "execution_count": 10,
   "metadata": {},
   "outputs": [
    {
     "data": {
      "text/plain": [
       "NÃO INFORMADO          4834\n",
       "DESEMPREGADO            535\n",
       "INATIVO                 446\n",
       "DO LAR                  431\n",
       "ESTUDANTE               261\n",
       "                       ... \n",
       "PEAO                      1\n",
       "PINTOR SE SCS             1\n",
       "DENTISTA                  1\n",
       "AUXILIAR DE COSTURA       1\n",
       "INATVA                    1\n",
       "Name: profissao_ocupacao, Length: 383, dtype: int64"
      ]
     },
     "execution_count": 10,
     "metadata": {},
     "output_type": "execute_result"
    }
   ],
   "source": [
    "df['profissao_ocupacao'].value_counts(dropna=False)"
   ]
  },
  {
   "cell_type": "code",
   "execution_count": 11,
   "metadata": {},
   "outputs": [
    {
     "data": {
      "text/plain": [
       "1068     20\n",
       "230      18\n",
       "1426     17\n",
       "1157     16\n",
       "108      15\n",
       "         ..\n",
       "4470      1\n",
       "4472      1\n",
       "4473      1\n",
       "4478      1\n",
       "11078     1\n",
       "Name: cod_paciente, Length: 4973, dtype: int64"
      ]
     },
     "execution_count": 11,
     "metadata": {},
     "output_type": "execute_result"
    }
   ],
   "source": [
    "df['cod_paciente'].value_counts(dropna=False)"
   ]
  },
  {
   "cell_type": "code",
   "execution_count": 12,
   "metadata": {},
   "outputs": [
    {
     "data": {
      "text/plain": [
       "SOLTEIRO         3547\n",
       "NÃO INFORMADO    3188\n",
       "CASADO           1205\n",
       "SEPARADO          452\n",
       "DIVORCIADO        234\n",
       "viasvo            129\n",
       "Name: estado_civil, dtype: int64"
      ]
     },
     "execution_count": 12,
     "metadata": {},
     "output_type": "execute_result"
    }
   ],
   "source": [
    "df['estado_civil'].value_counts(dropna=False)"
   ]
  },
  {
   "cell_type": "code",
   "execution_count": 13,
   "metadata": {},
   "outputs": [
    {
     "data": {
      "text/plain": [
       "NÃO INFORMADO    3578\n",
       "BRANCO           3232\n",
       "PARDO            1115\n",
       "NEGRO             794\n",
       "AMARELO            36\n",
       "Name: etnia, dtype: int64"
      ]
     },
     "execution_count": 13,
     "metadata": {},
     "output_type": "execute_result"
    }
   ],
   "source": [
    "df['etnia'].value_counts(dropna=False)"
   ]
  },
  {
   "cell_type": "code",
   "execution_count": 14,
   "metadata": {},
   "outputs": [
    {
     "data": {
      "text/plain": [
       "NÃO INFORMADO            5525\n",
       "COM COMPANHEIRO ( A)     1617\n",
       "SOZINHO                  1434\n",
       "COM PAI/MÃE               122\n",
       "COM OUTROS FAMILIARES      25\n",
       "COM FILHOS(AS)             20\n",
       "OUTRO                      11\n",
       "CONHECIDOS/AMIGOS           1\n",
       "Name: arranjo_domiciliar, dtype: int64"
      ]
     },
     "execution_count": 14,
     "metadata": {},
     "output_type": "execute_result"
    }
   ],
   "source": [
    "df['arranjo_domiciliar'].value_counts(dropna=False)"
   ]
  },
  {
   "cell_type": "code",
   "execution_count": 15,
   "metadata": {},
   "outputs": [
    {
     "data": {
      "text/html": [
       "<div>\n",
       "<style scoped>\n",
       "    .dataframe tbody tr th:only-of-type {\n",
       "        vertical-align: middle;\n",
       "    }\n",
       "\n",
       "    .dataframe tbody tr th {\n",
       "        vertical-align: top;\n",
       "    }\n",
       "\n",
       "    .dataframe thead th {\n",
       "        text-align: right;\n",
       "    }\n",
       "</style>\n",
       "<table border=\"1\" class=\"dataframe\">\n",
       "  <thead>\n",
       "    <tr style=\"text-align: right;\">\n",
       "      <th></th>\n",
       "      <th>data_internacao_real</th>\n",
       "      <th>data_cadastro</th>\n",
       "      <th>sexo</th>\n",
       "      <th>data_nascimento</th>\n",
       "      <th>uf</th>\n",
       "      <th>municipio</th>\n",
       "      <th>profissao_ocupacao</th>\n",
       "      <th>cod_paciente</th>\n",
       "      <th>unidade_cadastro</th>\n",
       "      <th>idade_aprox</th>\n",
       "      <th>...</th>\n",
       "      <th>total_repeat_cod</th>\n",
       "      <th>total_repeat</th>\n",
       "      <th>sum_los_hour</th>\n",
       "      <th>sum_outside_hour</th>\n",
       "      <th>cumsum</th>\n",
       "      <th>cumsum.1</th>\n",
       "      <th>cumsum.1(start)</th>\n",
       "      <th>cod_paciente.1</th>\n",
       "      <th>start</th>\n",
       "      <th>stop</th>\n",
       "    </tr>\n",
       "  </thead>\n",
       "  <tbody>\n",
       "    <tr>\n",
       "      <th>0</th>\n",
       "      <td>2012-07-12 17:37:00</td>\n",
       "      <td>NaT</td>\n",
       "      <td>F</td>\n",
       "      <td>1957-07-30</td>\n",
       "      <td>SP</td>\n",
       "      <td>Ribeirão Preto</td>\n",
       "      <td>DO LAR</td>\n",
       "      <td>39</td>\n",
       "      <td>43</td>\n",
       "      <td>NaN</td>\n",
       "      <td>...</td>\n",
       "      <td>0.000000</td>\n",
       "      <td>0.0000</td>\n",
       "      <td>1943.383333</td>\n",
       "      <td>0.0</td>\n",
       "      <td>1943.383333</td>\n",
       "      <td>1943.383333</td>\n",
       "      <td>0.0</td>\n",
       "      <td>39</td>\n",
       "      <td>0.0</td>\n",
       "      <td>1943.383333</td>\n",
       "    </tr>\n",
       "    <tr>\n",
       "      <th>1</th>\n",
       "      <td>2012-06-25 12:00:00</td>\n",
       "      <td>2012-08-02</td>\n",
       "      <td>F</td>\n",
       "      <td>1971-02-10</td>\n",
       "      <td>SP</td>\n",
       "      <td>Ribeirão Preto</td>\n",
       "      <td>DESEMPREGADA</td>\n",
       "      <td>40</td>\n",
       "      <td>7</td>\n",
       "      <td>NaN</td>\n",
       "      <td>...</td>\n",
       "      <td>250.481771</td>\n",
       "      <td>6011.5625</td>\n",
       "      <td>16268.263890</td>\n",
       "      <td>48092.5</td>\n",
       "      <td>1923.150000</td>\n",
       "      <td>0.000000</td>\n",
       "      <td>0.0</td>\n",
       "      <td>40</td>\n",
       "      <td>0.0</td>\n",
       "      <td>1923.150000</td>\n",
       "    </tr>\n",
       "  </tbody>\n",
       "</table>\n",
       "<p>2 rows × 70 columns</p>\n",
       "</div>"
      ],
      "text/plain": [
       "  data_internacao_real data_cadastro sexo data_nascimento  uf       municipio  \\\n",
       "0  2012-07-12 17:37:00           NaT    F      1957-07-30  SP  Ribeirão Preto   \n",
       "1  2012-06-25 12:00:00    2012-08-02    F      1971-02-10  SP  Ribeirão Preto   \n",
       "\n",
       "  profissao_ocupacao  cod_paciente  unidade_cadastro  idade_aprox  ...  \\\n",
       "0             DO LAR            39                43          NaN  ...   \n",
       "1       DESEMPREGADA            40                 7          NaN  ...   \n",
       "\n",
       "  total_repeat_cod total_repeat  sum_los_hour  sum_outside_hour       cumsum  \\\n",
       "0         0.000000       0.0000   1943.383333               0.0  1943.383333   \n",
       "1       250.481771    6011.5625  16268.263890           48092.5  1923.150000   \n",
       "\n",
       "      cumsum.1 cumsum.1(start) cod_paciente.1 start         stop  \n",
       "0  1943.383333             0.0             39   0.0  1943.383333  \n",
       "1     0.000000             0.0             40   0.0  1923.150000  \n",
       "\n",
       "[2 rows x 70 columns]"
      ]
     },
     "execution_count": 15,
     "metadata": {},
     "output_type": "execute_result"
    }
   ],
   "source": [
    "df['data_solicitacao'] = pd.to_datetime(df['data_solicitacao'], format='%m/%d/%Y %H:%M', errors='raise')\n",
    "df.head(2)"
   ]
  },
  {
   "cell_type": "code",
   "execution_count": 16,
   "metadata": {},
   "outputs": [
    {
     "data": {
      "text/plain": [
       "NO    8261\n",
       "DE     494\n",
       "Name: tipo_regulacao, dtype: int64"
      ]
     },
     "execution_count": 16,
     "metadata": {},
     "output_type": "execute_result"
    }
   ],
   "source": [
    "df['tipo_regulacao'].value_counts(dropna=False)"
   ]
  },
  {
   "cell_type": "code",
   "execution_count": 17,
   "metadata": {},
   "outputs": [
    {
     "data": {
      "text/plain": [
       "F19.2    1129\n",
       "F20.0    1125\n",
       "F31.2     667\n",
       "F10.2     521\n",
       "NaN       437\n",
       "         ... \n",
       "f09.0       1\n",
       "G71.3       1\n",
       "g71.3       1\n",
       "R22.0       1\n",
       "Y20         1\n",
       "Name: cid10_diagnostico, Length: 371, dtype: int64"
      ]
     },
     "execution_count": 17,
     "metadata": {},
     "output_type": "execute_result"
    }
   ],
   "source": [
    "df['cid10_diagnostico'].value_counts(dropna=False)"
   ]
  },
  {
   "cell_type": "code",
   "execution_count": 18,
   "metadata": {},
   "outputs": [
    {
     "data": {
      "text/plain": [
       "NaN      5171\n",
       "F60.3     353\n",
       "F19.2     311\n",
       "F10.2     169\n",
       "F20.0     151\n",
       "         ... \n",
       "f40.9       1\n",
       "F68         1\n",
       "f03.0       1\n",
       "g40._       1\n",
       "X63.1       1\n",
       "Name: cid10_seg_diagnostico, Length: 398, dtype: int64"
      ]
     },
     "execution_count": 18,
     "metadata": {},
     "output_type": "execute_result"
    }
   ],
   "source": [
    "df['cid10_seg_diagnostico'].value_counts(dropna=False)"
   ]
  },
  {
   "cell_type": "code",
   "execution_count": 19,
   "metadata": {},
   "outputs": [
    {
     "data": {
      "text/plain": [
       "NaN          1610\n",
       "0.000000      825\n",
       "0.016667      535\n",
       "0.033333      134\n",
       "0.050000       62\n",
       "             ... \n",
       "24.866667       1\n",
       "45.166667       1\n",
       "67.800000       1\n",
       "45.133333       1\n",
       "8.583333        1\n",
       "Name: diff_delay_Rank_vaga_internacao_1, Length: 1759, dtype: int64"
      ]
     },
     "execution_count": 19,
     "metadata": {},
     "output_type": "execute_result"
    }
   ],
   "source": [
    "df['diff_delay_Rank_vaga_internacao_1'].value_counts(dropna=False)"
   ]
  },
  {
   "cell_type": "code",
   "execution_count": 21,
   "metadata": {},
   "outputs": [
    {
     "data": {
      "text/plain": [
       "NaN                 8363\n",
       "12/3/2015 10:45        3\n",
       "11/23/2015 8:00        3\n",
       "12/23/2015 12:10       3\n",
       "12/30/2013 9:33        2\n",
       "                    ... \n",
       "11/18/2013 11:51       1\n",
       "11/18/2015 15:50       1\n",
       "5/14/2015 11:40        1\n",
       "10/25/2013 15:52       1\n",
       "12/13/2017 10:30       1\n",
       "Name: data_cancel_solicitacao, Length: 371, dtype: int64"
      ]
     },
     "execution_count": 21,
     "metadata": {},
     "output_type": "execute_result"
    }
   ],
   "source": [
    "df['data_cancel_solicitacao'].value_counts(dropna=False)"
   ]
  },
  {
   "cell_type": "code",
   "execution_count": 23,
   "metadata": {},
   "outputs": [
    {
     "data": {
      "text/plain": [
       "NÃO              7207\n",
       "NÃO INFORMADO    1356\n",
       "SIM               192\n",
       "Name: traumatismo, dtype: int64"
      ]
     },
     "execution_count": 23,
     "metadata": {},
     "output_type": "execute_result"
    }
   ],
   "source": [
    "df['traumatismo'].value_counts(dropna=False)"
   ]
  },
  {
   "cell_type": "code",
   "execution_count": 24,
   "metadata": {},
   "outputs": [
    {
     "data": {
      "text/plain": [
       "NÃO              7208\n",
       "NÃO INFORMADO    1421\n",
       "SIM               126\n",
       "Name: prob_respiratorios, dtype: int64"
      ]
     },
     "execution_count": 24,
     "metadata": {},
     "output_type": "execute_result"
    }
   ],
   "source": [
    "df['prob_respiratorios'].value_counts(dropna=False)"
   ]
  },
  {
   "cell_type": "code",
   "execution_count": 25,
   "metadata": {},
   "outputs": [
    {
     "data": {
      "text/plain": [
       "NÃO              7375\n",
       "NÃO INFORMADO    1315\n",
       "SIM                65\n",
       "Name: avc, dtype: int64"
      ]
     },
     "execution_count": 25,
     "metadata": {},
     "output_type": "execute_result"
    }
   ],
   "source": [
    "df['avc'].value_counts(dropna=False)"
   ]
  },
  {
   "cell_type": "code",
   "execution_count": 26,
   "metadata": {},
   "outputs": [
    {
     "data": {
      "text/plain": [
       "NÃO              6826\n",
       "NÃO INFORMADO    1462\n",
       "SIM               467\n",
       "Name: convulsao, dtype: int64"
      ]
     },
     "execution_count": 26,
     "metadata": {},
     "output_type": "execute_result"
    }
   ],
   "source": [
    "df['convulsao'].value_counts(dropna=False)"
   ]
  },
  {
   "cell_type": "code",
   "execution_count": 27,
   "metadata": {},
   "outputs": [
    {
     "data": {
      "text/plain": [
       "NÃO              6525\n",
       "NÃO INFORMADO    1476\n",
       "SIM               754\n",
       "Name: has, dtype: int64"
      ]
     },
     "execution_count": 27,
     "metadata": {},
     "output_type": "execute_result"
    }
   ],
   "source": [
    "df['has'].value_counts(dropna=False)"
   ]
  },
  {
   "cell_type": "code",
   "execution_count": 29,
   "metadata": {},
   "outputs": [
    {
     "data": {
      "text/plain": [
       "NÃO              6852\n",
       "NÃO INFORMADO    1489\n",
       "SIM               414\n",
       "Name: diabetes, dtype: int64"
      ]
     },
     "execution_count": 29,
     "metadata": {},
     "output_type": "execute_result"
    }
   ],
   "source": [
    "df['diabetes'].value_counts(dropna=False)"
   ]
  },
  {
   "cell_type": "code",
   "execution_count": 30,
   "metadata": {},
   "outputs": [
    {
     "data": {
      "text/plain": [
       "NÃO              6502\n",
       "NÃO INFORMADO    1989\n",
       "SIM               264\n",
       "Name: doenca_infecto, dtype: int64"
      ]
     },
     "execution_count": 30,
     "metadata": {},
     "output_type": "execute_result"
    }
   ],
   "source": [
    "df['doenca_infecto'].value_counts(dropna=False)"
   ]
  },
  {
   "cell_type": "code",
   "execution_count": 33,
   "metadata": {},
   "outputs": [
    {
     "data": {
      "text/plain": [
       "NaN      8754\n",
       "134.0       1\n",
       "Name: cod_transf_alta, dtype: int64"
      ]
     },
     "execution_count": 33,
     "metadata": {},
     "output_type": "execute_result"
    }
   ],
   "source": [
    "df['cod_transf_alta'].value_counts(dropna=False)"
   ]
  },
  {
   "cell_type": "code",
   "execution_count": 34,
   "metadata": {},
   "outputs": [
    {
     "data": {
      "text/plain": [
       "NaN                 15\n",
       "9/13/2013 17:00      8\n",
       "9/14/2012 9:09       7\n",
       "12/3/2012 17:00      7\n",
       "12/20/2012 17:00     6\n",
       "                    ..\n",
       "8/9/2013 11:00       1\n",
       "8/12/2014 7:10       1\n",
       "2/6/2015 8:05        1\n",
       "12/12/2014 8:43      1\n",
       "1/5/2018 11:00       1\n",
       "Name: data_alta, Length: 7756, dtype: int64"
      ]
     },
     "execution_count": 34,
     "metadata": {},
     "output_type": "execute_result"
    }
   ],
   "source": [
    "df['data_alta'].value_counts(dropna=False)"
   ]
  },
  {
   "cell_type": "code",
   "execution_count": 35,
   "metadata": {},
   "outputs": [
    {
     "data": {
      "text/plain": [
       "F19.2    1718\n",
       "F20.0     805\n",
       "F31.2     642\n",
       "F10.2     609\n",
       "F60.3     346\n",
       "         ... \n",
       "g93.4       1\n",
       "m32.9       1\n",
       "o99.3       1\n",
       "f44.4       1\n",
       "f42.9       1\n",
       "Name: cid10_diagnostico_alta, Length: 442, dtype: int64"
      ]
     },
     "execution_count": 35,
     "metadata": {},
     "output_type": "execute_result"
    }
   ],
   "source": [
    "df['cid10_diagnostico_alta'].value_counts(dropna=False)"
   ]
  },
  {
   "cell_type": "code",
   "execution_count": 36,
   "metadata": {},
   "outputs": [
    {
     "data": {
      "text/plain": [
       "NaN      5668\n",
       "F19.2     292\n",
       "F60.3     229\n",
       "F20.0     160\n",
       "F10.2      89\n",
       "         ... \n",
       "g71.3       1\n",
       "G71.3       1\n",
       "F45.4       1\n",
       "G01         1\n",
       "F30         1\n",
       "Name: cid10_seg_diagnostico_alta, Length: 396, dtype: int64"
      ]
     },
     "execution_count": 36,
     "metadata": {},
     "output_type": "execute_result"
    }
   ],
   "source": [
    "df['cid10_seg_diagnostico_alta'].value_counts(dropna=False)"
   ]
  },
  {
   "cell_type": "code",
   "execution_count": 37,
   "metadata": {},
   "outputs": [
    {
     "data": {
      "text/plain": [
       "CLÃNICA                7038\n",
       "A pedido                 612\n",
       "TransferÊncia da UCP     401\n",
       "TransferÊncia            339\n",
       "EVASÃO                   290\n",
       "Administrativa            46\n",
       "NÃO INFORMADO             15\n",
       "abito                     14\n",
       "Name: tipo_alta, dtype: int64"
      ]
     },
     "execution_count": 37,
     "metadata": {},
     "output_type": "execute_result"
    }
   ],
   "source": [
    "df['tipo_alta'].value_counts(dropna=False)"
   ]
  },
  {
   "cell_type": "code",
   "execution_count": 38,
   "metadata": {},
   "outputs": [
    {
     "data": {
      "text/plain": [
       "internacao voluntria      6018\n",
       "internacao involuntria    1779\n",
       "internacao compulsoria     957\n",
       "NÃO INFORMADO                1\n",
       "Name: tipo_internacao, dtype: int64"
      ]
     },
     "execution_count": 38,
     "metadata": {},
     "output_type": "execute_result"
    }
   ],
   "source": [
    "df['tipo_internacao'].value_counts(dropna=False)"
   ]
  },
  {
   "cell_type": "code",
   "execution_count": 42,
   "metadata": {},
   "outputs": [
    {
     "data": {
      "text/plain": [
       "0.000000      494\n",
       "NaN           230\n",
       "0.011667       10\n",
       "0.019444        9\n",
       "0.013611        7\n",
       "             ... \n",
       "171.596667      1\n",
       "102.352778      1\n",
       "24.039444       1\n",
       "7.204167        1\n",
       "0.248333        1\n",
       "Name: tempo_espera_internacao, Length: 7762, dtype: int64"
      ]
     },
     "execution_count": 42,
     "metadata": {},
     "output_type": "execute_result"
    }
   ],
   "source": [
    "df['tempo_espera_internacao'].value_counts(dropna=False)"
   ]
  },
  {
   "cell_type": "code",
   "execution_count": 43,
   "metadata": {},
   "outputs": [
    {
     "data": {
      "text/plain": [
       "0.000000     494\n",
       "NaN          198\n",
       "0.005556      20\n",
       "0.005833      20\n",
       "0.004444      20\n",
       "            ... \n",
       "20.740278      1\n",
       "0.711111       1\n",
       "59.627778      1\n",
       "0.036944       1\n",
       "0.363611       1\n",
       "Name: tempo_espera_aceite, Length: 7377, dtype: int64"
      ]
     },
     "execution_count": 43,
     "metadata": {},
     "output_type": "execute_result"
    }
   ],
   "source": [
    "df['tempo_espera_aceite'].value_counts(dropna=False)"
   ]
  },
  {
   "cell_type": "code",
   "execution_count": 53,
   "metadata": {},
   "outputs": [
    {
     "data": {
      "text/plain": [
       "0.033333         1\n",
       "0.049167         1\n",
       "0.050000         1\n",
       "0.083333         1\n",
       "0.092222         1\n",
       "                ..\n",
       "23470.867780     1\n",
       "27310.692780     1\n",
       "29056.307780     1\n",
       "35611.861390     1\n",
       "NaN             38\n",
       "Name: tempo_internacao, Length: 8565, dtype: int64"
      ]
     },
     "execution_count": 53,
     "metadata": {},
     "output_type": "execute_result"
    }
   ],
   "source": [
    "df['tempo_internacao'].value_counts(dropna=False).sort_index()"
   ]
  },
  {
   "cell_type": "code",
   "execution_count": null,
   "metadata": {},
   "outputs": [],
   "source": []
  }
 ],
 "metadata": {
  "kernelspec": {
   "display_name": "base",
   "language": "python",
   "name": "python3"
  },
  "language_info": {
   "codemirror_mode": {
    "name": "ipython",
    "version": 3
   },
   "file_extension": ".py",
   "mimetype": "text/x-python",
   "name": "python",
   "nbconvert_exporter": "python",
   "pygments_lexer": "ipython3",
   "version": "3.9.13"
  },
  "orig_nbformat": 4
 },
 "nbformat": 4,
 "nbformat_minor": 2
}
