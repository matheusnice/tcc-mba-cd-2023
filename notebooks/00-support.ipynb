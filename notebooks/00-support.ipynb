{
 "cells": [
  {
   "cell_type": "markdown",
   "metadata": {},
   "source": [
    "# 1. Imports"
   ]
  },
  {
   "cell_type": "code",
   "execution_count": 1,
   "metadata": {},
   "outputs": [],
   "source": [
    "import pandas as pd\n",
    "import numpy as np\n",
    "import matplotlib.pyplot as plt\n",
    "import seaborn as sns"
   ]
  },
  {
   "cell_type": "markdown",
   "metadata": {},
   "source": [
    "# 2. Definições"
   ]
  },
  {
   "cell_type": "code",
   "execution_count": 12,
   "metadata": {},
   "outputs": [],
   "source": [
    "IMAGES_PATH = \"../reports/figures/\"\n",
    "PATH_INPUT_DATASET = \"../data/processed/internacoes_processado.csv\"\n",
    "PATH_BEST_MODELS = \"./models/best_models.pkl\"\n",
    "\n",
    "style_dict = {\n",
    "    \"axes.spines.right\": False,\n",
    "    \"axes.spines.top\": False,\n",
    "    \"axes.titlesize\": \"large\",\n",
    "    'text.color': '.25',\n",
    "}\n",
    "\n",
    "sns.set_theme(\n",
    "    context=\"paper\",\n",
    "    style=\"ticks\",\n",
    "    palette=\"pastel\",\n",
    "    rc=style_dict\n",
    ")"
   ]
  },
  {
   "cell_type": "markdown",
   "metadata": {},
   "source": [
    "# 3. Funções de apoio"
   ]
  },
  {
   "cell_type": "code",
   "execution_count": 13,
   "metadata": {},
   "outputs": [],
   "source": [
    "def salvar_figura(fig, fig_id, tight_layout=True, fig_extension=\"png\", resolution=300):\n",
    "    path = IMAGES_PATH + f\"{fig_id}.{fig_extension}\"\n",
    "    if tight_layout:\n",
    "        plt.tight_layout()\n",
    "    print(f'Salvando figura {fig_id}...')\n",
    "    fig.savefig(path, format=fig_extension, dpi=resolution)\n",
    "\n",
    "def obter_nomes_colunas_por_tipo(df, numeric=False):\n",
    "    if numeric:\n",
    "        return list(df.select_dtypes(include=['int64', 'float64']).columns)\n",
    "    else:\n",
    "        return list(df.select_dtypes(include=['object']).columns)\n",
    "\n",
    "def plotar_features_categoricas(df, target_column, categorical_features):\n",
    "    for feature in categorical_features:\n",
    "        sns.countplot(x=feature, data=df, hue=target_column)\n",
    "        plt.show()\n",
    "        plt.clf()\n",
    "    plt.tight_layout()\n",
    "\n",
    "def melt_results_df(results_df):\n",
    "    df = pd.melt(results_df, id_vars=\"Model\", value_vars=results_df.columns[1:])\n",
    "    \n",
    "    df['Validacao'] = df['variable'].map(validacao_metrica_mapping)\n",
    "    df['Metrica'] = df['variable'].str.split('_').str[0]\n",
    "    df['Valor'] = df['value']\n",
    "\n",
    "    df = df.drop(columns=['variable', 'value'])\n",
    "\n",
    "    return df\n",
    "    "
   ]
  },
  {
   "cell_type": "code",
   "execution_count": 31,
   "metadata": {},
   "outputs": [
    {
     "name": "stdout",
     "output_type": "stream",
     "text": [
      "Salvando figura funcao-logistica...\n"
     ]
    },
    {
     "data": {
      "image/png": "[encoded data removed]",
      "text/plain": [
       "<Figure size 500x300 with 1 Axes>"
      ]
     },
     "metadata": {},
     "output_type": "display_data"
    }
   ],
   "source": [
    "fig, ax = plt.subplots(figsize=(5,3))\n",
    "\n",
    "def logistic_regression(x):\n",
    "    return 1 / (1 + np.exp(-x))\n",
    "\n",
    "# Gerando valores para o eixo x\n",
    "x_values = np.linspace(-6, 6, 100)  # Valores de -6 a 6 para o eixo x\n",
    "\n",
    "# Calculando os valores correspondentes no eixo y usando a função de regressão logística\n",
    "y_values = logistic_regression(x_values)\n",
    "\n",
    "ax.plot(x_values, y_values, label='Regressão Logística')\n",
    "ax.set_title('Função Logística')\n",
    "ax.set_xlabel('z')\n",
    "ax.set_ylabel('f(z)       ', rotation=0);\n",
    "salvar_figura(fig, 'funcao-logistica')"
   ]
  },
  {
   "cell_type": "code",
   "execution_count": null,
   "metadata": {},
   "outputs": [],
   "source": []
  }
 ],
 "metadata": {
  "kernelspec": {
   "display_name": "base",
   "language": "python",
   "name": "python3"
  },
  "language_info": {
   "codemirror_mode": {
    "name": "ipython",
    "version": 3
   },
   "file_extension": ".py",
   "mimetype": "text/x-python",
   "name": "python",
   "nbconvert_exporter": "python",
   "pygments_lexer": "ipython3",
   "version": "3.9.13"
  }
 },
 "nbformat": 4,
 "nbformat_minor": 2
}
